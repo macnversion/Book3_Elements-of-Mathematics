{
 "cells": [
  {
   "cell_type": "code",
   "execution_count": 2,
   "metadata": {},
   "outputs": [],
   "source": [
    "from sklearn.datasets import load_iris\n",
    "import pandas as pd\n",
    "import seaborn as sns\n",
    "import matplotlib.pyplot as plt\n",
    "plt.rcParams['font.sans-serif'] = ['SimHei']  # 设置中文字体\n",
    "plt.rcParams['axes.unicode_minus'] = False    # 解决负号显示问题\n"
   ]
  },
  {
   "cell_type": "code",
   "execution_count": null,
   "metadata": {},
   "outputs": [],
   "source": [
    "# 加载鸢尾花数据集\n",
    "iris = load_iris()\n",
    "\n",
    "# 将数据转换为DataFrame格式，便于查看和处理\n",
    "iris_df = pd.DataFrame(data=iris.data, columns=iris.feature_names)\n",
    "\n",
    "# 添加目标变量（花的种类）\n",
    "iris_df['target'] = iris.target\n",
    "\n",
    "# 查看数据集的前几行\n",
    "print(\"鸢尾花数据集预览：\")\n",
    "print(iris_df.head())\n",
    "\n",
    "# 显示基本统计信息\n",
    "print(\"\\n数据集基本信息：\")\n",
    "print(iris_df.describe())"
   ]
  },
  {
   "cell_type": "code",
   "execution_count": null,
   "metadata": {},
   "outputs": [],
   "source": [
    "# 1. 散点图矩阵\n",
    "plt.figure(figsize=(10, 10))\n",
    "sns.pairplot(iris_df, hue='target', diag_kind='hist')\n",
    "plt.suptitle('鸢尾花数据集特征散点图矩阵', y=1.02)\n",
    "plt.show()\n",
    "\n",
    "# 2. 箱线图\n",
    "plt.figure(figsize=(12, 6))\n",
    "iris_df.boxplot(by='target')\n",
    "plt.title('不同品种鸢尾花的特征分布箱线图')\n",
    "plt.show()\n",
    "\n",
    "# 3. 小提琴图\n",
    "plt.figure(figsize=(12, 6))\n",
    "features = iris.feature_names\n",
    "for i, feature in enumerate(features):\n",
    "    plt.subplot(2, 2, i+1)\n",
    "    sns.violinplot(x='target', y=feature, data=iris_df)\n",
    "    plt.title(f'{feature}的分布')\n",
    "plt.tight_layout()\n",
    "plt.show()\n",
    "\n",
    "# 4. 热力图（相关性矩阵）\n",
    "plt.figure(figsize=(8, 6))\n",
    "correlation = iris_df.corr()\n",
    "sns.heatmap(correlation, annot=True, cmap='coolwarm')\n",
    "plt.title('特征相关性热力图')\n",
    "plt.show()\n",
    "\n",
    "# 5. 3D散点图\n",
    "from mpl_toolkits.mplot3d import Axes3D\n",
    "fig = plt.figure(figsize=(10, 8))\n",
    "ax = fig.add_subplot(111, projection='3d')\n",
    "\n",
    "scatter = ax.scatter(iris_df.iloc[:, 0], \n",
    "                    iris_df.iloc[:, 1], \n",
    "                    iris_df.iloc[:, 2],\n",
    "                    c=iris_df['target'],\n",
    "                    cmap='viridis')\n",
    "ax.set_xlabel(features[0])\n",
    "ax.set_ylabel(features[1])\n",
    "ax.set_zlabel(features[2])\n",
    "plt.title('鸢尾花三个特征的3D散点图')\n",
    "plt.colorbar(scatter)\n",
    "plt.show()"
   ]
  }
 ],
 "metadata": {
  "kernelspec": {
   "display_name": "base",
   "language": "python",
   "name": "python3"
  },
  "language_info": {
   "codemirror_mode": {
    "name": "ipython",
    "version": 3
   },
   "file_extension": ".py",
   "mimetype": "text/x-python",
   "name": "python",
   "nbconvert_exporter": "python",
   "pygments_lexer": "ipython3",
   "version": "3.12.2"
  }
 },
 "nbformat": 4,
 "nbformat_minor": 2
}
